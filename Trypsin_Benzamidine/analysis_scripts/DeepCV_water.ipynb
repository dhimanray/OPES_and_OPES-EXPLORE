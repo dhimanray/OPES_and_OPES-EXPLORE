{
 "cells": [
  {
   "cell_type": "code",
   "execution_count": 1,
   "id": "1a568239",
   "metadata": {},
   "outputs": [],
   "source": [
    "import numpy as np\n",
    "import matplotlib.pyplot as plt\n",
    "import torch\n",
    "import io"
   ]
  },
  {
   "cell_type": "code",
   "execution_count": 2,
   "id": "31301a9a",
   "metadata": {},
   "outputs": [],
   "source": [
    "data = np.loadtxt('water_cv_features.dat')"
   ]
  },
  {
   "cell_type": "code",
   "execution_count": 3,
   "id": "60302325",
   "metadata": {},
   "outputs": [],
   "source": [
    "deep_lda_model = torch.jit.load('CV_16V_G_H_1.pt')\n",
    "\n",
    "deep_lda_model\n",
    "\n",
    "x_data = torch.Tensor(data[:,2:])\n",
    "with torch.no_grad():\n",
    "    water_lda = deep_lda_model(x_data)\n",
    "water_lda = water_lda.detach().numpy()"
   ]
  },
  {
   "cell_type": "code",
   "execution_count": 5,
   "id": "e688512d",
   "metadata": {},
   "outputs": [],
   "source": [
    "deep_tica_model = torch.jit.load('deeptica_all_lag_0.07model_all.pt')\n",
    "\n",
    "deep_tica_model\n",
    "\n",
    "x_data = torch.Tensor(data[:,2:])\n",
    "with torch.no_grad():\n",
    "    water_tica = deep_tica_model(x_data)\n",
    "water_tica = water_tica.detach().numpy()"
   ]
  },
  {
   "cell_type": "code",
   "execution_count": 7,
   "id": "775a7d13",
   "metadata": {},
   "outputs": [],
   "source": [
    "bias = np.loadtxt('COLVAR')\n",
    "bias_trimmed = bias[::8]"
   ]
  },
  {
   "cell_type": "code",
   "execution_count": 8,
   "id": "f69a5a50",
   "metadata": {},
   "outputs": [
    {
     "data": {
      "text/plain": [
       "(193228, 3)"
      ]
     },
     "execution_count": 8,
     "metadata": {},
     "output_type": "execute_result"
    }
   ],
   "source": [
    "bias_trimmed.shape"
   ]
  },
  {
   "cell_type": "code",
   "execution_count": 9,
   "id": "b7ff705b",
   "metadata": {},
   "outputs": [
    {
     "data": {
      "text/plain": [
       "(193228, 20)"
      ]
     },
     "execution_count": 9,
     "metadata": {},
     "output_type": "execute_result"
    }
   ],
   "source": [
    "data.shape"
   ]
  },
  {
   "cell_type": "code",
   "execution_count": 13,
   "id": "154c8370",
   "metadata": {},
   "outputs": [],
   "source": [
    "f1 = open('water_deep_CV.dat','w')\n",
    "print('#! FIELDS time cyl.z deep_lda_cv deep_tica_cv opesE.bias',file=f1)\n",
    "\n",
    "for i in range(len(data)):\n",
    "    #print only for consistent structures\n",
    "    if bias_trimmed[i,1]-data[i,1] < 0.01:\n",
    "        print(data[i,0]*4.0,data[i,1],-(water_lda[i,0]+water_lda[i,0]**3),-water_tica[i,0],bias_trimmed[i,2],file=f1)\n",
    "f1.close()"
   ]
  },
  {
   "cell_type": "code",
   "execution_count": null,
   "id": "a88b99df",
   "metadata": {},
   "outputs": [],
   "source": []
  }
 ],
 "metadata": {
  "kernelspec": {
   "display_name": "pytprch1.4",
   "language": "python",
   "name": "pytprch1.4"
  },
  "language_info": {
   "codemirror_mode": {
    "name": "ipython",
    "version": 3
   },
   "file_extension": ".py",
   "mimetype": "text/x-python",
   "name": "python",
   "nbconvert_exporter": "python",
   "pygments_lexer": "ipython3",
   "version": "3.10.4"
  }
 },
 "nbformat": 4,
 "nbformat_minor": 5
}
